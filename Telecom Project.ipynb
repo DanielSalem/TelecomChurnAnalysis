{
 "cells": [
  {
   "cell_type": "markdown",
   "id": "8618b6ed",
   "metadata": {},
   "source": [
    "# Telecom Company User Churn Rate"
   ]
  },
  {
   "cell_type": "code",
   "execution_count": 1,
   "id": "fd31a26c",
   "metadata": {},
   "outputs": [],
   "source": [
    "import pandas as pd\n",
    "import numpy as np\n",
    "import matplotlib.pyplot as plt\n",
    "%matplotlib inline"
   ]
  },
  {
   "cell_type": "code",
   "execution_count": 2,
   "id": "16331719",
   "metadata": {},
   "outputs": [],
   "source": [
    "df = pd.read_csv(r'C:\\Users\\dnlsa\\AppData\\Local\\Programs\\Python\\Python38\\Scripts\\telecom_users.csv')\n"
   ]
  },
  {
   "cell_type": "code",
   "execution_count": 3,
   "id": "5696d405",
   "metadata": {},
   "outputs": [
    {
     "data": {
      "text/html": [
       "<div>\n",
       "<style scoped>\n",
       "    .dataframe tbody tr th:only-of-type {\n",
       "        vertical-align: middle;\n",
       "    }\n",
       "\n",
       "    .dataframe tbody tr th {\n",
       "        vertical-align: top;\n",
       "    }\n",
       "\n",
       "    .dataframe thead th {\n",
       "        text-align: right;\n",
       "    }\n",
       "</style>\n",
       "<table border=\"1\" class=\"dataframe\">\n",
       "  <thead>\n",
       "    <tr style=\"text-align: right;\">\n",
       "      <th></th>\n",
       "      <th>Unnamed: 0</th>\n",
       "      <th>customerID</th>\n",
       "      <th>gender</th>\n",
       "      <th>SeniorCitizen</th>\n",
       "      <th>Partner</th>\n",
       "      <th>Dependents</th>\n",
       "      <th>tenure</th>\n",
       "      <th>PhoneService</th>\n",
       "      <th>MultipleLines</th>\n",
       "      <th>InternetService</th>\n",
       "      <th>...</th>\n",
       "      <th>DeviceProtection</th>\n",
       "      <th>TechSupport</th>\n",
       "      <th>StreamingTV</th>\n",
       "      <th>StreamingMovies</th>\n",
       "      <th>Contract</th>\n",
       "      <th>PaperlessBilling</th>\n",
       "      <th>PaymentMethod</th>\n",
       "      <th>MonthlyCharges</th>\n",
       "      <th>TotalCharges</th>\n",
       "      <th>Churn</th>\n",
       "    </tr>\n",
       "  </thead>\n",
       "  <tbody>\n",
       "    <tr>\n",
       "      <th>0</th>\n",
       "      <td>6754</td>\n",
       "      <td>2775-SEFEE</td>\n",
       "      <td>Male</td>\n",
       "      <td>0</td>\n",
       "      <td>No</td>\n",
       "      <td>Yes</td>\n",
       "      <td>0</td>\n",
       "      <td>Yes</td>\n",
       "      <td>Yes</td>\n",
       "      <td>DSL</td>\n",
       "      <td>...</td>\n",
       "      <td>No</td>\n",
       "      <td>Yes</td>\n",
       "      <td>No</td>\n",
       "      <td>No</td>\n",
       "      <td>Two year</td>\n",
       "      <td>Yes</td>\n",
       "      <td>Bank transfer (automatic)</td>\n",
       "      <td>61.90</td>\n",
       "      <td>0.0</td>\n",
       "      <td>No</td>\n",
       "    </tr>\n",
       "    <tr>\n",
       "      <th>1</th>\n",
       "      <td>1340</td>\n",
       "      <td>1371-DWPAZ</td>\n",
       "      <td>Female</td>\n",
       "      <td>0</td>\n",
       "      <td>Yes</td>\n",
       "      <td>Yes</td>\n",
       "      <td>0</td>\n",
       "      <td>No</td>\n",
       "      <td>No phone service</td>\n",
       "      <td>DSL</td>\n",
       "      <td>...</td>\n",
       "      <td>Yes</td>\n",
       "      <td>Yes</td>\n",
       "      <td>Yes</td>\n",
       "      <td>No</td>\n",
       "      <td>Two year</td>\n",
       "      <td>No</td>\n",
       "      <td>Credit card (automatic)</td>\n",
       "      <td>56.05</td>\n",
       "      <td>0.0</td>\n",
       "      <td>No</td>\n",
       "    </tr>\n",
       "    <tr>\n",
       "      <th>2</th>\n",
       "      <td>3826</td>\n",
       "      <td>3213-VVOLG</td>\n",
       "      <td>Male</td>\n",
       "      <td>0</td>\n",
       "      <td>Yes</td>\n",
       "      <td>Yes</td>\n",
       "      <td>0</td>\n",
       "      <td>Yes</td>\n",
       "      <td>Yes</td>\n",
       "      <td>No</td>\n",
       "      <td>...</td>\n",
       "      <td>No internet service</td>\n",
       "      <td>No internet service</td>\n",
       "      <td>No internet service</td>\n",
       "      <td>No internet service</td>\n",
       "      <td>Two year</td>\n",
       "      <td>No</td>\n",
       "      <td>Mailed check</td>\n",
       "      <td>25.35</td>\n",
       "      <td>0.0</td>\n",
       "      <td>No</td>\n",
       "    </tr>\n",
       "    <tr>\n",
       "      <th>3</th>\n",
       "      <td>5218</td>\n",
       "      <td>2923-ARZLG</td>\n",
       "      <td>Male</td>\n",
       "      <td>0</td>\n",
       "      <td>Yes</td>\n",
       "      <td>Yes</td>\n",
       "      <td>0</td>\n",
       "      <td>Yes</td>\n",
       "      <td>No</td>\n",
       "      <td>No</td>\n",
       "      <td>...</td>\n",
       "      <td>No internet service</td>\n",
       "      <td>No internet service</td>\n",
       "      <td>No internet service</td>\n",
       "      <td>No internet service</td>\n",
       "      <td>One year</td>\n",
       "      <td>Yes</td>\n",
       "      <td>Mailed check</td>\n",
       "      <td>19.70</td>\n",
       "      <td>0.0</td>\n",
       "      <td>No</td>\n",
       "    </tr>\n",
       "    <tr>\n",
       "      <th>4</th>\n",
       "      <td>3331</td>\n",
       "      <td>7644-OMVMY</td>\n",
       "      <td>Male</td>\n",
       "      <td>0</td>\n",
       "      <td>Yes</td>\n",
       "      <td>Yes</td>\n",
       "      <td>0</td>\n",
       "      <td>Yes</td>\n",
       "      <td>No</td>\n",
       "      <td>No</td>\n",
       "      <td>...</td>\n",
       "      <td>No internet service</td>\n",
       "      <td>No internet service</td>\n",
       "      <td>No internet service</td>\n",
       "      <td>No internet service</td>\n",
       "      <td>Two year</td>\n",
       "      <td>No</td>\n",
       "      <td>Mailed check</td>\n",
       "      <td>19.85</td>\n",
       "      <td>0.0</td>\n",
       "      <td>No</td>\n",
       "    </tr>\n",
       "  </tbody>\n",
       "</table>\n",
       "<p>5 rows × 22 columns</p>\n",
       "</div>"
      ],
      "text/plain": [
       "   Unnamed: 0  customerID  gender  SeniorCitizen Partner Dependents  tenure  \\\n",
       "0        6754  2775-SEFEE    Male              0      No        Yes       0   \n",
       "1        1340  1371-DWPAZ  Female              0     Yes        Yes       0   \n",
       "2        3826  3213-VVOLG    Male              0     Yes        Yes       0   \n",
       "3        5218  2923-ARZLG    Male              0     Yes        Yes       0   \n",
       "4        3331  7644-OMVMY    Male              0     Yes        Yes       0   \n",
       "\n",
       "  PhoneService     MultipleLines InternetService  ...     DeviceProtection  \\\n",
       "0          Yes               Yes             DSL  ...                   No   \n",
       "1           No  No phone service             DSL  ...                  Yes   \n",
       "2          Yes               Yes              No  ...  No internet service   \n",
       "3          Yes                No              No  ...  No internet service   \n",
       "4          Yes                No              No  ...  No internet service   \n",
       "\n",
       "           TechSupport          StreamingTV      StreamingMovies  Contract  \\\n",
       "0                  Yes                   No                   No  Two year   \n",
       "1                  Yes                  Yes                   No  Two year   \n",
       "2  No internet service  No internet service  No internet service  Two year   \n",
       "3  No internet service  No internet service  No internet service  One year   \n",
       "4  No internet service  No internet service  No internet service  Two year   \n",
       "\n",
       "  PaperlessBilling              PaymentMethod MonthlyCharges TotalCharges  \\\n",
       "0              Yes  Bank transfer (automatic)          61.90          0.0   \n",
       "1               No    Credit card (automatic)          56.05          0.0   \n",
       "2               No               Mailed check          25.35          0.0   \n",
       "3              Yes               Mailed check          19.70          0.0   \n",
       "4               No               Mailed check          19.85          0.0   \n",
       "\n",
       "   Churn  \n",
       "0     No  \n",
       "1     No  \n",
       "2     No  \n",
       "3     No  \n",
       "4     No  \n",
       "\n",
       "[5 rows x 22 columns]"
      ]
     },
     "execution_count": 3,
     "metadata": {},
     "output_type": "execute_result"
    }
   ],
   "source": [
    "# Getting an idea of the data at hand. Inspecting first 5 rows\n",
    "\n",
    "df.head()"
   ]
  },
  {
   "cell_type": "code",
   "execution_count": 4,
   "id": "5782b3e9",
   "metadata": {},
   "outputs": [
    {
     "name": "stdout",
     "output_type": "stream",
     "text": [
      "Table has 5986 rows and 22 columns\n"
     ]
    }
   ],
   "source": [
    "# Looking at table dimensions\n",
    "\n",
    "table_shape = list(df.shape)\n",
    "\n",
    "print('Table has {} rows and {} columns'.format(table_shape[0], table_shape[1]))"
   ]
  },
  {
   "cell_type": "code",
   "execution_count": 5,
   "id": "c796a673",
   "metadata": {},
   "outputs": [
    {
     "name": "stdout",
     "output_type": "stream",
     "text": [
      "<class 'pandas.core.frame.DataFrame'>\n",
      "RangeIndex: 5986 entries, 0 to 5985\n",
      "Data columns (total 22 columns):\n",
      " #   Column            Non-Null Count  Dtype  \n",
      "---  ------            --------------  -----  \n",
      " 0   Unnamed: 0        5986 non-null   int64  \n",
      " 1   customerID        5986 non-null   object \n",
      " 2   gender            5986 non-null   object \n",
      " 3   SeniorCitizen     5986 non-null   int64  \n",
      " 4   Partner           5986 non-null   object \n",
      " 5   Dependents        5986 non-null   object \n",
      " 6   tenure            5986 non-null   int64  \n",
      " 7   PhoneService      5986 non-null   object \n",
      " 8   MultipleLines     5986 non-null   object \n",
      " 9   InternetService   5986 non-null   object \n",
      " 10  OnlineSecurity    5986 non-null   object \n",
      " 11  OnlineBackup      5986 non-null   object \n",
      " 12  DeviceProtection  5986 non-null   object \n",
      " 13  TechSupport       5986 non-null   object \n",
      " 14  StreamingTV       5986 non-null   object \n",
      " 15  StreamingMovies   5986 non-null   object \n",
      " 16  Contract          5986 non-null   object \n",
      " 17  PaperlessBilling  5986 non-null   object \n",
      " 18  PaymentMethod     5986 non-null   object \n",
      " 19  MonthlyCharges    5986 non-null   float64\n",
      " 20  TotalCharges      5986 non-null   float64\n",
      " 21  Churn             5986 non-null   object \n",
      "dtypes: float64(2), int64(3), object(17)\n",
      "memory usage: 1.0+ MB\n"
     ]
    }
   ],
   "source": [
    "# Verifying that data is 'clean' with same number non-null values\n",
    "\n",
    "df.info()"
   ]
  },
  {
   "cell_type": "code",
   "execution_count": 6,
   "id": "bb5af67f",
   "metadata": {},
   "outputs": [
    {
     "name": "stdout",
     "output_type": "stream",
     "text": [
      "Unique values in the \"SeniorCitizen\" column: 0, 1\n"
     ]
    }
   ],
   "source": [
    "# Data is clean, but a little tweaking can make it more uniform and readable\n",
    "# Senior citizen status is marked by two values: 0 (=not senior citizen) and 1 (=senior citizen)\n",
    "# Showing unique values in 'SeniorCitizen' column\n",
    "\n",
    "seniorcitizen_uniquevalues = list(pd.unique(df['SeniorCitizen']))\n",
    "\n",
    "print('Unique values in the \"SeniorCitizen\" column: {}'.format(str(seniorcitizen_uniquevalues)[1:-1]))"
   ]
  },
  {
   "cell_type": "code",
   "execution_count": 7,
   "id": "87b65f61",
   "metadata": {},
   "outputs": [
    {
     "name": "stdout",
     "output_type": "stream",
     "text": [
      "Unique values in the \"SeniorCitizen\" column: 'No', 'Yes'\n"
     ]
    }
   ],
   "source": [
    "# Senior citizen status in table is marked by 0 (= not senior citizen) and 1 (=senior citizen)\n",
    "# Tranforming 0s to 'no' and 1s to 'yes' to conform with rest of table, and make coloumn more legible\n",
    "\n",
    "df['SeniorCitizen'] = df['SeniorCitizen'].apply(lambda x: str(x).replace('0', 'No') if x == 0 else 'Yes')\n",
    "\n",
    "# Making sure changes have been applied\n",
    "\n",
    "seniorcitizen_uniquevalues = list(pd.unique(df['SeniorCitizen']))\n",
    "\n",
    "print('Unique values in the \"SeniorCitizen\" column: {}'.format(str(seniorcitizen_uniquevalues)[1:-1]))"
   ]
  },
  {
   "cell_type": "code",
   "execution_count": 8,
   "id": "7f67a1bd",
   "metadata": {},
   "outputs": [
    {
     "data": {
      "image/png": "[encoded data removed]",
      "text/plain": [
       "<Figure size 432x288 with 1 Axes>"
      ]
     },
     "metadata": {},
     "output_type": "display_data"
    }
   ],
   "source": [
    "# Checking user churn rates\n",
    "# Presenting user churn rates in pie format\n",
    "\n",
    "churn_rate = df.groupby('Churn')['Churn'].count()\n",
    "churn_rate_percentage = churn_rate / df['Churn'].count() * 100\n",
    "\n",
    "labels = 'Retained', 'Churned'\n",
    "sizes = churn_rate_percentage\n",
    "\n",
    "fig1, ax = plt.subplots()\n",
    "ax.pie(sizes, labels=labels, autopct='%1.0f%%',\n",
    "        startangle=180, colors=['deepskyblue', 'dodgerblue'], explode=(0, 0.03))\n",
    "ax.axis('equal')\n",
    "\n",
    "ax.set_title(\"Customer Churn Rate\")\n",
    "\n",
    "plt.show()"
   ]
  },
  {
   "cell_type": "markdown",
   "id": "864da799",
   "metadata": {},
   "source": [
    "Some initial conclusions:\n",
    "* The company has a churn rate of 27%"
   ]
  },
  {
   "cell_type": "markdown",
   "id": "63797a26",
   "metadata": {},
   "source": [
    " "
   ]
  },
  {
   "cell_type": "markdown",
   "id": "b82ff497",
   "metadata": {},
   "source": [
    "\n",
    "# Customer Churn Rate Analysis"
   ]
  },
  {
   "cell_type": "markdown",
   "id": "0fc5c87b",
   "metadata": {},
   "source": [
    "### Customer Demographics"
   ]
  },
  {
   "cell_type": "code",
   "execution_count": 9,
   "id": "58c1b5a8",
   "metadata": {},
   "outputs": [
    {
     "data": {
      "text/html": [
       "<div>\n",
       "<style scoped>\n",
       "    .dataframe tbody tr th:only-of-type {\n",
       "        vertical-align: middle;\n",
       "    }\n",
       "\n",
       "    .dataframe tbody tr th {\n",
       "        vertical-align: top;\n",
       "    }\n",
       "\n",
       "    .dataframe thead th {\n",
       "        text-align: right;\n",
       "    }\n",
       "</style>\n",
       "<table border=\"1\" class=\"dataframe\">\n",
       "  <thead>\n",
       "    <tr style=\"text-align: right;\">\n",
       "      <th></th>\n",
       "      <th>Partner</th>\n",
       "      <th>Dependents</th>\n",
       "      <th>SeniorCitizen</th>\n",
       "      <th>gender</th>\n",
       "    </tr>\n",
       "  </thead>\n",
       "  <tbody>\n",
       "    <tr>\n",
       "      <th>0</th>\n",
       "      <td>No</td>\n",
       "      <td>Yes</td>\n",
       "      <td>No</td>\n",
       "      <td>Male</td>\n",
       "    </tr>\n",
       "    <tr>\n",
       "      <th>1</th>\n",
       "      <td>Yes</td>\n",
       "      <td>Yes</td>\n",
       "      <td>No</td>\n",
       "      <td>Female</td>\n",
       "    </tr>\n",
       "    <tr>\n",
       "      <th>2</th>\n",
       "      <td>Yes</td>\n",
       "      <td>Yes</td>\n",
       "      <td>No</td>\n",
       "      <td>Male</td>\n",
       "    </tr>\n",
       "    <tr>\n",
       "      <th>3</th>\n",
       "      <td>Yes</td>\n",
       "      <td>Yes</td>\n",
       "      <td>No</td>\n",
       "      <td>Male</td>\n",
       "    </tr>\n",
       "    <tr>\n",
       "      <th>4</th>\n",
       "      <td>Yes</td>\n",
       "      <td>Yes</td>\n",
       "      <td>No</td>\n",
       "      <td>Male</td>\n",
       "    </tr>\n",
       "  </tbody>\n",
       "</table>\n",
       "</div>"
      ],
      "text/plain": [
       "  Partner Dependents SeniorCitizen  gender\n",
       "0      No        Yes            No    Male\n",
       "1     Yes        Yes            No  Female\n",
       "2     Yes        Yes            No    Male\n",
       "3     Yes        Yes            No    Male\n",
       "4     Yes        Yes            No    Male"
      ]
     },
     "execution_count": 9,
     "metadata": {},
     "output_type": "execute_result"
    }
   ],
   "source": [
    "# Looking at columns containing demographic data: age group, marital status, dependent offsprings, gender\n",
    "\n",
    "df[['Partner', 'Dependents', 'SeniorCitizen', 'gender']].head()"
   ]
  },
  {
   "cell_type": "code",
   "execution_count": 10,
   "id": "9f6b9b3d",
   "metadata": {},
   "outputs": [
    {
     "data": {
      "image/png": "[encoded data removed]",
      "text/plain": [
       "<Figure size 288x288 with 1 Axes>"
      ]
     },
     "metadata": {
      "needs_background": "light"
     },
     "output_type": "display_data"
    }
   ],
   "source": [
    "# Looking at ratio of users who are single from total users, churned users, and retained users\n",
    "# Summing up partner stats visually, using bar chart\n",
    "\n",
    "partner_total = df.groupby('Partner')['Partner'].count()\n",
    "partner_total_ratio = partner_total / df['Partner'].count() * 100\n",
    "\n",
    "partner_churn = df.groupby(['Churn', 'Partner'])['Partner'].count()\n",
    "partner_churn_ratio = partner_churn / partner_churn.groupby(level=0).sum() * 100\n",
    "\n",
    "labels = ['Churned', 'Retained', 'Total']\n",
    "y = [partner_churn_ratio[2], partner_churn_ratio[0], partner_total_ratio[0]]\n",
    "\n",
    "x = np.arange(len(labels))  # label locations\n",
    "width = 0.6  # width of bars\n",
    "\n",
    "fig, ax = plt.subplots(figsize=(4, 4))\n",
    "rects1 = ax.bar(x, y, width, color=['blue'])\n",
    "\n",
    "ax.set_ylabel('Percentage', size=14)\n",
    "ax.set_title('Single Customers (%)', size=14)\n",
    "ax.set_xticks(x)\n",
    "ax.set_xticklabels(labels, size=12)\n",
    "\n",
    "ax.bar_label(rects1, fmt='%.0f%%', padding=-20, color='white', size=14)\n",
    "\n",
    "fig.tight_layout()\n",
    "\n",
    "plt.show()"
   ]
  },
  {
   "cell_type": "markdown",
   "id": "79d3c63f",
   "metadata": {},
   "source": [
    "* A clear majority of churned users (64%) are single (compared to 47% of retained and 51% of total users)"
   ]
  },
  {
   "cell_type": "code",
   "execution_count": 11,
   "id": "10e0047e",
   "metadata": {},
   "outputs": [
    {
     "data": {
      "image/png": "[encoded data removed]",
      "text/plain": [
       "<Figure size 288x288 with 1 Axes>"
      ]
     },
     "metadata": {
      "needs_background": "light"
     },
     "output_type": "display_data"
    }
   ],
   "source": [
    " # Examining ratio of users with dependents from total users, among churned users, and among retained users\n",
    "    \n",
    "dependents_total = df.groupby('Dependents')['Dependents'].count()\n",
    "dependents_total_ratio = dependents_total / df['Dependents'].count() * 100\n",
    "\n",
    "churn_dependents = df.groupby(['Churn', 'Dependents'])['Dependents'].count()\n",
    "churn_dependents_ratio = churn_dependents / churn_dependents.groupby(level=0).sum() * 100\n",
    "\n",
    "labels = ['Churned', 'Retained', 'Total']\n",
    "y = [churn_dependents_ratio[3], churn_dependents_ratio[1], dependents_total_ratio[1]]\n",
    "\n",
    "x = np.arange(len(labels))  \n",
    "width = 0.6\n",
    "\n",
    "fig, ax = plt.subplots(figsize=(4, 4))\n",
    "rects1 = ax.bar(x, y, width, color=['blue'])\n",
    "\n",
    "ax.set_ylabel('Percentage', size=14)\n",
    "ax.set_title('Customers with Dependents (%)', size=14)\n",
    "ax.set_xticks(x)\n",
    "ax.set_xticklabels(labels, size=12)\n",
    "\n",
    "ax.bar_label(rects1, fmt='%.0f%%', padding=-20, color='white', size=14)\n",
    "\n",
    "fig.tight_layout()\n",
    "\n",
    "plt.show()"
   ]
  },
  {
   "cell_type": "markdown",
   "id": "01d4461f",
   "metadata": {},
   "source": [
    "* Churned users are almost twice as likely to have no dependent children than retained users (18% vs. 34%)"
   ]
  },
  {
   "cell_type": "code",
   "execution_count": 12,
   "id": "5e9f225a",
   "metadata": {},
   "outputs": [
    {
     "data": {
      "image/png": "[encoded data removed]",
      "text/plain": [
       "<Figure size 288x288 with 1 Axes>"
      ]
     },
     "metadata": {
      "needs_background": "light"
     },
     "output_type": "display_data"
    }
   ],
   "source": [
    "# Looking at data on senior citizens\n",
    "# Looking at senior citizen ratio among churned, retained, and total users\n",
    "\n",
    "seniorcitizen_total = df.groupby('SeniorCitizen')['SeniorCitizen'].count()\n",
    "seniorcitizen_total_ratio = seniorcitizen_total / df['SeniorCitizen'].count() * 100\n",
    "\n",
    "churn_seniorcitizen = df.groupby(['Churn', 'SeniorCitizen'])['SeniorCitizen'].count()\n",
    "churn_seniorcitizen_ratio = churn_seniorcitizen / churn_seniorcitizen.groupby(level=0).sum() * 100\n",
    "\n",
    "labels = ['Churned', 'Retained', 'Total']\n",
    "y = [churn_seniorcitizen_ratio[3], churn_seniorcitizen_ratio[1], seniorcitizen_total_ratio[1]]\n",
    "\n",
    "x = np.arange(len(labels)) \n",
    "width = 0.6\n",
    "\n",
    "fig, ax = plt.subplots(figsize=(4, 4))\n",
    "rects1 = ax.bar(x, y, width, color=['blue'])\n",
    "\n",
    "ax.set_ylabel('Percentage', size=14)\n",
    "ax.set_title('Ratio of Senior Citizens', size=14)\n",
    "ax.set_xticks(x)\n",
    "ax.set_xticklabels(labels, size=12)\n",
    "\n",
    "ax.bar_label(rects1, fmt='%.0f%%', padding=-20, color='white', size=14)\n",
    "\n",
    "fig.tight_layout()\n",
    "\n",
    "plt.show()"
   ]
  },
  {
   "cell_type": "markdown",
   "id": "df506719",
   "metadata": {},
   "source": [
    "* One quarter of churned users (25%) are senior citizens, which is almost double the ratio among retained users (13%)."
   ]
  },
  {
   "cell_type": "code",
   "execution_count": 13,
   "id": "4094f227",
   "metadata": {},
   "outputs": [
    {
     "data": {
      "image/png": "[encoded data removed]",
      "text/plain": [
       "<Figure size 432x288 with 1 Axes>"
      ]
     },
     "metadata": {
      "needs_background": "light"
     },
     "output_type": "display_data"
    }
   ],
   "source": [
    "# Looking at the gender variable, to locate potential unique patterns among churned users\n",
    "\n",
    "gender_total = df.groupby('gender')['gender'].count()\n",
    "gender_total_percentage = gender_total / df['gender'].count() * 100\n",
    "\n",
    "churn_gender = df.groupby(['Churn', 'gender'])['gender'].count()\n",
    "churn_gender_percentage = churn_gender / churn_gender.groupby(level=0).sum() * 100\n",
    "\n",
    "female_total = list(gender_total_percentage)[0]  # Percent of female from total users\n",
    "male_total = list(gender_total_percentage)[1]  # Percent of male from total users\n",
    "female_churn_grouping = list(churn_gender_percentage)[0::2]  # List of female users grouped by churn (percentage) \n",
    "male_churn_grouping = list(churn_gender_percentage)[1::2]  # List of male users grouped by churn (percentage) \n",
    "\n",
    "labels = ['Churned', 'Retained', 'Total']\n",
    "male = [male_churn_grouping[0], male_churn_grouping[1], male_total]\n",
    "female = [female_churn_grouping[0], female_churn_grouping[1], female_total]\n",
    "\n",
    "x = np.arange(len(labels))  # label locations\n",
    "width = 0.4  # width of bars\n",
    "\n",
    "fig, ax = plt.subplots()\n",
    "rects1 = ax.bar(x - width/2, male, width, label='Male', color='blue')\n",
    "rects2 = ax.bar(x + width/2, female, width, label='Female', color='dodgerblue')\n",
    "\n",
    "ax.set_ylabel('Percentage', size=14)\n",
    "ax.set_title('Ratio of Male/Female Customers', size=14)\n",
    "ax.set_xticks(x)\n",
    "ax.set_xticklabels(labels, size=13)\n",
    "ax.legend(loc='lower right')\n",
    "\n",
    "ax.bar_label(rects1, fmt='%.0f%%', padding=-20, color='white', size=13)\n",
    "ax.bar_label(rects2, fmt='%.0f%%', padding=-20, color='white', size=13)\n",
    "\n",
    "fig.tight_layout()\n",
    "\n",
    "plt.show()"
   ]
  },
  {
   "cell_type": "markdown",
   "id": "e5744958",
   "metadata": {},
   "source": [
    "* Gender is <i>not</i> a decisive factor. It does not set churned user demographics apart from retained (or total) users.   "
   ]
  },
  {
   "cell_type": "code",
   "execution_count": 14,
   "id": "472506bf",
   "metadata": {},
   "outputs": [
    {
     "data": {
      "text/html": [
       "<style  type=\"text/css\" >\n",
       "</style><table id=\"T_d1909_\" ><thead>    <tr>        <th class=\"col_heading level0 col0\" >Senior citizen</th>        <th class=\"col_heading level0 col1\" >Partner status</th>        <th class=\"col_heading level0 col2\" >Churn rate</th>    </tr></thead><tbody>\n",
       "                <tr>\n",
       "                                <td id=\"T_d1909_row0_col0\" class=\"data row0 col0\" >No</td>\n",
       "                        <td id=\"T_d1909_row0_col1\" class=\"data row0 col1\" >Single</td>\n",
       "                        <td id=\"T_d1909_row0_col2\" class=\"data row0 col2\" >52%</td>\n",
       "            </tr>\n",
       "            <tr>\n",
       "                                <td id=\"T_d1909_row1_col0\" class=\"data row1 col0\" ></td>\n",
       "                        <td id=\"T_d1909_row1_col1\" class=\"data row1 col1\" >Partner</td>\n",
       "                        <td id=\"T_d1909_row1_col2\" class=\"data row1 col2\" >48%</td>\n",
       "            </tr>\n",
       "            <tr>\n",
       "                                <td id=\"T_d1909_row2_col0\" class=\"data row2 col0\" >Yes</td>\n",
       "                        <td id=\"T_d1909_row2_col1\" class=\"data row2 col1\" >Single</td>\n",
       "                        <td id=\"T_d1909_row2_col2\" class=\"data row2 col2\" >50%</td>\n",
       "            </tr>\n",
       "            <tr>\n",
       "                                <td id=\"T_d1909_row3_col0\" class=\"data row3 col0\" ></td>\n",
       "                        <td id=\"T_d1909_row3_col1\" class=\"data row3 col1\" >Partner</td>\n",
       "                        <td id=\"T_d1909_row3_col2\" class=\"data row3 col2\" >50%</td>\n",
       "            </tr>\n",
       "    </tbody></table>"
      ],
      "text/plain": [
       "<pandas.io.formats.style.Styler at 0x2039e9a5970>"
      ]
     },
     "execution_count": 14,
     "metadata": {},
     "output_type": "execute_result"
    }
   ],
   "source": [
    "# Looking at possible contingencies between our categories\n",
    "# Perhaps 'partner' and 'dependents' categories are contingent upon senior citizen status?\n",
    "# Building a contingency table to check interrelation between partner and senior citizen status. \n",
    "\n",
    "partner_by_seniorcitizen = df.groupby(['SeniorCitizen', 'Partner'])['Partner'].count()\n",
    "partner_by_seniorcitizen_percentage = partner_by_seniorcitizen / partner_by_seniorcitizen.groupby(level=0).sum() * 100\n",
    "\n",
    "data = {'Senior citizen':['No', '', 'Yes', ''],\n",
    "        'Partner status':['Single', 'Partner', 'Single', 'Partner'],\n",
    "        'Churn rate':[\"{0:.0f}%\".format(val) for val in list(partner_by_seniorcitizen_percentage)]}\n",
    "table = pd.DataFrame(data=data)\n",
    "table.style.hide_index()"
   ]
  },
  {
   "cell_type": "markdown",
   "id": "5775a4b1",
   "metadata": {},
   "source": [
    "* Senior citizen status has negligible impact on partner status"
   ]
  },
  {
   "cell_type": "code",
   "execution_count": 15,
   "id": "c42c2af6",
   "metadata": {},
   "outputs": [
    {
     "data": {
      "text/html": [
       "<style  type=\"text/css\" >\n",
       "</style><table id=\"T_b0578_\" ><thead>    <tr>        <th class=\"col_heading level0 col0\" >Senior citizen</th>        <th class=\"col_heading level0 col1\" >Dependents</th>        <th class=\"col_heading level0 col2\" >Churn rate</th>    </tr></thead><tbody>\n",
       "                <tr>\n",
       "                                <td id=\"T_b0578_row0_col0\" class=\"data row0 col0\" >No</td>\n",
       "                        <td id=\"T_b0578_row0_col1\" class=\"data row0 col1\" >No</td>\n",
       "                        <td id=\"T_b0578_row0_col2\" class=\"data row0 col2\" >66%</td>\n",
       "            </tr>\n",
       "            <tr>\n",
       "                                <td id=\"T_b0578_row1_col0\" class=\"data row1 col0\" ></td>\n",
       "                        <td id=\"T_b0578_row1_col1\" class=\"data row1 col1\" >Yes</td>\n",
       "                        <td id=\"T_b0578_row1_col2\" class=\"data row1 col2\" >34%</td>\n",
       "            </tr>\n",
       "            <tr>\n",
       "                                <td id=\"T_b0578_row2_col0\" class=\"data row2 col0\" >Yes</td>\n",
       "                        <td id=\"T_b0578_row2_col1\" class=\"data row2 col1\" >No</td>\n",
       "                        <td id=\"T_b0578_row2_col2\" class=\"data row2 col2\" >92%</td>\n",
       "            </tr>\n",
       "            <tr>\n",
       "                                <td id=\"T_b0578_row3_col0\" class=\"data row3 col0\" ></td>\n",
       "                        <td id=\"T_b0578_row3_col1\" class=\"data row3 col1\" >Yes</td>\n",
       "                        <td id=\"T_b0578_row3_col2\" class=\"data row3 col2\" >8%</td>\n",
       "            </tr>\n",
       "    </tbody></table>"
      ],
      "text/plain": [
       "<pandas.io.formats.style.Styler at 0x2039e939b80>"
      ]
     },
     "execution_count": 15,
     "metadata": {},
     "output_type": "execute_result"
    }
   ],
   "source": [
    "# hypothesizing that senior citizens are much less likely to have any dependents\n",
    "# Children of senior citizens are most likely not dependent on their parents any more\n",
    "# Building a contingency table to see whether or not 'dependents' is impacted by senior citizen status\n",
    "\n",
    "dependents_by_seniorcitizen = df.groupby(['SeniorCitizen', 'Dependents'])['Dependents'].count()\n",
    "dependents_by_seniorcitizen_percentage = dependents_by_seniorcitizen / dependents_by_seniorcitizen.groupby(level=0).sum() * 100\n",
    "\n",
    "data = {'Senior citizen':['No', '', 'Yes', ''],\n",
    "        'Dependents':['No', 'Yes', 'No', 'Yes'],\n",
    "        'Churn rate':[\"{0:.0f}%\".format(val) for val in list(dependents_by_seniorcitizen_percentage)]}\n",
    "table = pd.DataFrame(data=data)\n",
    "table.style.hide_index()"
   ]
  },
  {
   "cell_type": "markdown",
   "id": "9c62ed2f",
   "metadata": {},
   "source": [
    "* Senior citizens are very unlikely to have dependents (92% of senior citizens do not have dependents). This indicates a strong dependency of the low rates of dependents on the high rates of senior citizens found among churned users."
   ]
  },
  {
   "cell_type": "code",
   "execution_count": 16,
   "id": "d004dc69",
   "metadata": {},
   "outputs": [
    {
     "data": {
      "text/html": [
       "<style  type=\"text/css\" >\n",
       "</style><table id=\"T_12deb_\" ><thead>    <tr>        <th class=\"col_heading level0 col0\" >Partner status</th>        <th class=\"col_heading level0 col1\" >Dependents</th>        <th class=\"col_heading level0 col2\" >Churn rate</th>    </tr></thead><tbody>\n",
       "                <tr>\n",
       "                                <td id=\"T_12deb_row0_col0\" class=\"data row0 col0\" >Single</td>\n",
       "                        <td id=\"T_12deb_row0_col1\" class=\"data row0 col1\" >No</td>\n",
       "                        <td id=\"T_12deb_row0_col2\" class=\"data row0 col2\" >90%</td>\n",
       "            </tr>\n",
       "            <tr>\n",
       "                                <td id=\"T_12deb_row1_col0\" class=\"data row1 col0\" ></td>\n",
       "                        <td id=\"T_12deb_row1_col1\" class=\"data row1 col1\" >Yes</td>\n",
       "                        <td id=\"T_12deb_row1_col2\" class=\"data row1 col2\" >10%</td>\n",
       "            </tr>\n",
       "            <tr>\n",
       "                                <td id=\"T_12deb_row2_col0\" class=\"data row2 col0\" >Partner</td>\n",
       "                        <td id=\"T_12deb_row2_col1\" class=\"data row2 col1\" >No</td>\n",
       "                        <td id=\"T_12deb_row2_col2\" class=\"data row2 col2\" >49%</td>\n",
       "            </tr>\n",
       "            <tr>\n",
       "                                <td id=\"T_12deb_row3_col0\" class=\"data row3 col0\" ></td>\n",
       "                        <td id=\"T_12deb_row3_col1\" class=\"data row3 col1\" >Yes</td>\n",
       "                        <td id=\"T_12deb_row3_col2\" class=\"data row3 col2\" >51%</td>\n",
       "            </tr>\n",
       "    </tbody></table>"
      ],
      "text/plain": [
       "<pandas.io.formats.style.Styler at 0x2039eb25fd0>"
      ]
     },
     "execution_count": 16,
     "metadata": {},
     "output_type": "execute_result"
    }
   ],
   "source": [
    "# Exploring partner/dependents interrelation\n",
    "# What's the impact of partner status on dependents status?\n",
    "\n",
    "dependents_by_partner = df.groupby(['Partner', 'Dependents'])['Dependents'].count()\n",
    "dependents_by_partner_percentage = dependents_by_partner / dependents_by_partner.groupby(level=0).sum() * 100\n",
    "\n",
    "data = {'Partner status':['Single', '', 'Partner', ''],\n",
    "        'Dependents':['No', 'Yes', 'No', 'Yes'],\n",
    "        'Churn rate':[\"{0:.0f}%\".format(val) for val in list(dependents_by_partner_percentage)]}\n",
    "table = pd.DataFrame(data=data)\n",
    "table.style.hide_index()"
   ]
  },
  {
   "cell_type": "markdown",
   "id": "597a8d10",
   "metadata": {},
   "source": [
    "* 90% of single users do not have dependents, which suggests a very strong impact of low 'partner' rate on low 'dependents' rate among churned users. "
   ]
  },
  {
   "cell_type": "code",
   "execution_count": 17,
   "id": "ab64455f",
   "metadata": {},
   "outputs": [
    {
     "data": {
      "image/png": "[encoded data removed]",
      "text/plain": [
       "<Figure size 432x288 with 1 Axes>"
      ]
     },
     "metadata": {
      "needs_background": "light"
     },
     "output_type": "display_data"
    }
   ],
   "source": [
    "# Summing up pertinent demogrpahic data in bar chart\n",
    "# Looking at following columns: Senior Citizen, Partner, Dependents (without Gender, which proved inconsequential)\n",
    "\n",
    "labels = ['Are Senior Citizens', 'Have Partner', 'Have Dependents']\n",
    "churned_percentage = [churn_seniorcitizen_ratio[3], partner_churn_ratio[3], churn_dependents_ratio[3]]\n",
    "retained_percentage = [churn_seniorcitizen_ratio[1], partner_churn_ratio[1], churn_dependents_ratio[1]]\n",
    "total_percentage = [seniorcitizen_total_ratio[1], partner_total_ratio[1], dependents_total_ratio[1]]\n",
    "\n",
    "x = np.arange(len(labels)) \n",
    "width = 0.27\n",
    "\n",
    "fig, ax = plt.subplots()\n",
    "rects1 = ax.bar(x - width, churned_percentage, width, label='Churned', color='b')\n",
    "rects2 = ax.bar(x, retained_percentage, width, label='Retained', color='dodgerblue')\n",
    "rects3 = ax.bar(x + width, total_percentage, width, label='Total', color='deepskyblue')\n",
    "\n",
    "ax.set_ylabel('Percentage', size=13)\n",
    "ax.set_title('Telecom Users: Demographic Indicators', size=16)\n",
    "ax.set_xticks(x)\n",
    "ax.set_xticklabels(labels, size=12)\n",
    "ax.legend()\n",
    "\n",
    "ax.bar_label(rects1, fmt='%.0f%%', padding=0)\n",
    "ax.bar_label(rects2, fmt='%.0f%%', padding=0)\n",
    "ax.bar_label(rects3, fmt='%.0f%%', padding=0)\n",
    "\n",
    "fig.tight_layout()\n",
    "\n",
    "plt.show()"
   ]
  },
  {
   "cell_type": "markdown",
   "id": "dac6d281",
   "metadata": {},
   "source": [
    "Demographics, conclusion:\n",
    "\n",
    "* In comparison with retained users, churned users tend to be <b>older</b> (senior citizens compose 25% vs. 13%), <b>single</b> (64% vs. 47%) and have <b>no dependents</b> (82% vs. 66%) \n",
    "* The low ratio of dependents among churned users is highly contingent on both senior citizen and partner status \n",
    "* The user's gender proved inconsequential"
   ]
  },
  {
   "cell_type": "markdown",
   "id": "8cbd9a85",
   "metadata": {},
   "source": [
    " "
   ]
  },
  {
   "cell_type": "markdown",
   "id": "dc1f297a",
   "metadata": {},
   "source": [
    "### Company Services"
   ]
  },
  {
   "cell_type": "code",
   "execution_count": 18,
   "id": "d309e0a3",
   "metadata": {},
   "outputs": [
    {
     "data": {
      "text/html": [
       "<div>\n",
       "<style scoped>\n",
       "    .dataframe tbody tr th:only-of-type {\n",
       "        vertical-align: middle;\n",
       "    }\n",
       "\n",
       "    .dataframe tbody tr th {\n",
       "        vertical-align: top;\n",
       "    }\n",
       "\n",
       "    .dataframe thead th {\n",
       "        text-align: right;\n",
       "    }\n",
       "</style>\n",
       "<table border=\"1\" class=\"dataframe\">\n",
       "  <thead>\n",
       "    <tr style=\"text-align: right;\">\n",
       "      <th></th>\n",
       "      <th>InternetService</th>\n",
       "      <th>DeviceProtection</th>\n",
       "      <th>TechSupport</th>\n",
       "      <th>StreamingTV</th>\n",
       "      <th>StreamingMovies</th>\n",
       "    </tr>\n",
       "  </thead>\n",
       "  <tbody>\n",
       "    <tr>\n",
       "      <th>0</th>\n",
       "      <td>DSL</td>\n",
       "      <td>No</td>\n",
       "      <td>Yes</td>\n",
       "      <td>No</td>\n",
       "      <td>No</td>\n",
       "    </tr>\n",
       "    <tr>\n",
       "      <th>1</th>\n",
       "      <td>DSL</td>\n",
       "      <td>Yes</td>\n",
       "      <td>Yes</td>\n",
       "      <td>Yes</td>\n",
       "      <td>No</td>\n",
       "    </tr>\n",
       "    <tr>\n",
       "      <th>2</th>\n",
       "      <td>No</td>\n",
       "      <td>No internet service</td>\n",
       "      <td>No internet service</td>\n",
       "      <td>No internet service</td>\n",
       "      <td>No internet service</td>\n",
       "    </tr>\n",
       "    <tr>\n",
       "      <th>3</th>\n",
       "      <td>No</td>\n",
       "      <td>No internet service</td>\n",
       "      <td>No internet service</td>\n",
       "      <td>No internet service</td>\n",
       "      <td>No internet service</td>\n",
       "    </tr>\n",
       "    <tr>\n",
       "      <th>4</th>\n",
       "      <td>No</td>\n",
       "      <td>No internet service</td>\n",
       "      <td>No internet service</td>\n",
       "      <td>No internet service</td>\n",
       "      <td>No internet service</td>\n",
       "    </tr>\n",
       "  </tbody>\n",
       "</table>\n",
       "</div>"
      ],
      "text/plain": [
       "  InternetService     DeviceProtection          TechSupport  \\\n",
       "0             DSL                   No                  Yes   \n",
       "1             DSL                  Yes                  Yes   \n",
       "2              No  No internet service  No internet service   \n",
       "3              No  No internet service  No internet service   \n",
       "4              No  No internet service  No internet service   \n",
       "\n",
       "           StreamingTV      StreamingMovies  \n",
       "0                   No                   No  \n",
       "1                  Yes                   No  \n",
       "2  No internet service  No internet service  \n",
       "3  No internet service  No internet service  \n",
       "4  No internet service  No internet service  "
      ]
     },
     "execution_count": 18,
     "metadata": {},
     "output_type": "execute_result"
    }
   ],
   "source": [
    "# Looking at columns realting to services provided by the company\n",
    "\n",
    "df[['InternetService', 'DeviceProtection', 'TechSupport', 'StreamingTV', 'StreamingMovies']].head()"
   ]
  },
  {
   "cell_type": "code",
   "execution_count": 19,
   "id": "725b8512",
   "metadata": {},
   "outputs": [
    {
     "name": "stdout",
     "output_type": "stream",
     "text": [
      "Unique values in the \"InternetService\" column: 'DSL', 'No', 'Fiber optic'\n"
     ]
    }
   ],
   "source": [
    "# Looking first at internet service\n",
    "# Checking the variety of internet services offered by the Telecom compony\n",
    "\n",
    "internetservice_types = list(pd.unique(df['InternetService']))\n",
    "print('Unique values in the \"InternetService\" column: {}'.format(str(internetservice_types)[1:-1]))"
   ]
  },
  {
   "cell_type": "code",
   "execution_count": 20,
   "id": "14d03701",
   "metadata": {},
   "outputs": [
    {
     "data": {
      "image/png": "[encoded data removed]",
      "text/plain": [
       "<Figure size 432x288 with 1 Axes>"
      ]
     },
     "metadata": {},
     "output_type": "display_data"
    }
   ],
   "source": [
    "# Looking at distribution of internet service among total users\n",
    "\n",
    "internetservice_total = df.groupby('InternetService')['InternetService'].count()\n",
    "internetservice_total_ratio = internetservice_total / df['InternetService'].count() * 100\n",
    "\n",
    "labels = ['DSL', 'Fiber optic', 'No internet service']\n",
    "sizes = internetservice_total_ratio\n",
    "\n",
    "fig1, ax1 = plt.subplots()\n",
    "ax1.pie(sizes, labels=labels, autopct='%1.1f%%', startangle=180, colors=['royalblue', 'deepskyblue', 'dodgerblue'])\n",
    "ax1.axis('equal')\n",
    "\n",
    "ax1.set_title(\"Internet Service Distribution\")\n",
    "\n",
    "plt.show()"
   ]
  },
  {
   "cell_type": "code",
   "execution_count": 21,
   "id": "b14674f3",
   "metadata": {},
   "outputs": [
    {
     "data": {
      "image/png": "[encoded data removed]",
      "text/plain": [
       "<Figure size 432x288 with 1 Axes>"
      ]
     },
     "metadata": {
      "needs_background": "light"
     },
     "output_type": "display_data"
    }
   ],
   "source": [
    "# Looking at internet service distribution among churned, retained, and total users\n",
    "\n",
    "internetservice_churn = df.groupby(['Churn', 'InternetService'])['InternetService'].count()\n",
    "internetservice_churn_ratio = internetservice_churn / internetservice_churn.groupby(level=0).sum() * 100\n",
    "\n",
    "labels = ['DSL', 'Fiber optic', 'No internet service']\n",
    "churned_ratio = [internetservice_churn_ratio[3], internetservice_churn_ratio[4], internetservice_churn_ratio[5]] \n",
    "retained_ratio = [internetservice_churn_ratio[0], internetservice_churn_ratio[1], internetservice_churn_ratio[2]] \n",
    "total_ratio = [internetservice_total_ratio[0], internetservice_total_ratio[1], internetservice_total_ratio[2]]\n",
    "\n",
    "x = np.arange(len(labels)) \n",
    "width = 0.27 \n",
    "\n",
    "fig, ax = plt.subplots()\n",
    "rects1 = ax.bar(x - width, churned_ratio, width, label='Churned', color='b')\n",
    "rects2 = ax.bar(x, retained_ratio, width, label='Retained', color='dodgerblue')\n",
    "rects3 = ax.bar(x + width, total_ratio, width, label='Total', color='deepskyblue')\n",
    "\n",
    "ax.set_ylabel('Percentage')\n",
    "ax.set_title('Internet Service Distribution')\n",
    "ax.set_xticks(x)\n",
    "ax.set_xticklabels(labels)\n",
    "ax.legend()\n",
    "\n",
    "ax.bar_label(rects1, fmt='%.0f%%', padding=0)\n",
    "ax.bar_label(rects2, fmt='%.0f%%', padding=0)\n",
    "ax.bar_label(rects3, fmt='%.0f%%', padding=0)\n",
    "\n",
    "fig.tight_layout()\n",
    "\n",
    "plt.show()"
   ]
  },
  {
   "cell_type": "markdown",
   "id": "565ac790",
   "metadata": {},
   "source": [
    "* Churned users are interested in the company's internet service; only 6% of churned users receive no internet service (as opposed to 27% of retained users)  \n",
    "* A clear majority of churned users (69%) use <b>fiber optic internet</b>, compared to approximately one third (35%) of retained users."
   ]
  },
  {
   "cell_type": "code",
   "execution_count": 22,
   "id": "597b3e80",
   "metadata": {},
   "outputs": [
    {
     "data": {
      "text/html": [
       "<style  type=\"text/css\" >\n",
       "</style><table id=\"T_77178_\" ><thead>    <tr>        <th class=\"col_heading level0 col0\" >Churn status</th>        <th class=\"col_heading level0 col1\" >Internet service</th>        <th class=\"col_heading level0 col2\" >Churn rate</th>    </tr></thead><tbody>\n",
       "                <tr>\n",
       "                                <td id=\"T_77178_row0_col0\" class=\"data row0 col0\" >Retained</td>\n",
       "                        <td id=\"T_77178_row0_col1\" class=\"data row0 col1\" >DSL</td>\n",
       "                        <td id=\"T_77178_row0_col2\" class=\"data row0 col2\" >52%</td>\n",
       "            </tr>\n",
       "            <tr>\n",
       "                                <td id=\"T_77178_row1_col0\" class=\"data row1 col0\" ></td>\n",
       "                        <td id=\"T_77178_row1_col1\" class=\"data row1 col1\" >Fiber optic</td>\n",
       "                        <td id=\"T_77178_row1_col2\" class=\"data row1 col2\" >48%</td>\n",
       "            </tr>\n",
       "            <tr>\n",
       "                                <td id=\"T_77178_row2_col0\" class=\"data row2 col0\" >Churned</td>\n",
       "                        <td id=\"T_77178_row2_col1\" class=\"data row2 col1\" >DSL</td>\n",
       "                        <td id=\"T_77178_row2_col2\" class=\"data row2 col2\" >27%</td>\n",
       "            </tr>\n",
       "            <tr>\n",
       "                                <td id=\"T_77178_row3_col0\" class=\"data row3 col0\" ></td>\n",
       "                        <td id=\"T_77178_row3_col1\" class=\"data row3 col1\" >Fiber optic</td>\n",
       "                        <td id=\"T_77178_row3_col2\" class=\"data row3 col2\" >73%</td>\n",
       "            </tr>\n",
       "    </tbody></table>"
      ],
      "text/plain": [
       "<pandas.io.formats.style.Styler at 0x2039e9b2fa0>"
      ]
     },
     "execution_count": 22,
     "metadata": {},
     "output_type": "execute_result"
    }
   ],
   "source": [
    "# Churned users are by and large internet users\n",
    "# Now looking at internet service type among churned/retained internet users (i.e. excluding users with no internet service)\n",
    "# Using table to present data\n",
    "\n",
    "internetservice_internetusers = df[(df['InternetService'] == 'DSL') | (df['InternetService'] == 'Fiber optic')]\n",
    "internetservice_internetusers_churn = internetservice_internetusers.groupby(['Churn', 'InternetService'])['InternetService'].count()\n",
    "internetservice_internetusers_churn_ratio = internetservice_internetusers_churn / internetservice_internetusers_churn.groupby(level=0).sum()\n",
    "\n",
    "data = {'Churn status':['Retained', '', 'Churned', ''],\n",
    "        'Internet service':['DSL', 'Fiber optic', 'DSL', 'Fiber optic'],\n",
    "        'Churn rate':['{0:.0f}%'.format(val * 100) for val in list(internetservice_internetusers_churn_ratio)]}\n",
    "table = pd.DataFrame(data=data)\n",
    "table.style.hide_index()\n"
   ]
  },
  {
   "cell_type": "markdown",
   "id": "fd0fed97",
   "metadata": {},
   "source": [
    "* 73% of churned customers who are subscribed to the company's internet service use the company's fiber optic internet connection"
   ]
  },
  {
   "cell_type": "code",
   "execution_count": 23,
   "id": "8b72f1b9",
   "metadata": {},
   "outputs": [
    {
     "data": {
      "image/png": "[encoded data removed]",
      "text/plain": [
       "<Figure size 576x288 with 1 Axes>"
      ]
     },
     "metadata": {
      "needs_background": "light"
     },
     "output_type": "display_data"
    }
   ],
   "source": [
    "# Looking deeper into churned users' preference for fiber optics\n",
    "# What does this tell us about churned users' computer savviness and sense of cyber security?\n",
    "# Checking use of device protection and tech support services among (un)churned users who use internet service\n",
    "\n",
    "df_deviceprotection_internetusers = df[(df['DeviceProtection'] == 'Yes') | (df['DeviceProtection'] == 'No')]\n",
    "deviceprotection_churn = df_deviceprotection_internetusers.groupby(['Churn', 'DeviceProtection'])['DeviceProtection'].count()\n",
    "deviceprotection_churn_ratio = deviceprotection_churn / deviceprotection_churn.groupby(level=0).sum() * 100\n",
    "\n",
    "df_techsupport_internetusers = df[(df['TechSupport'] == 'Yes') | (df['TechSupport'] == 'No')]\n",
    "techsupport_churn = df_techsupport_internetusers.groupby(['Churn', 'TechSupport'])['TechSupport'].count()\n",
    "techsupport_churn_ratio = techsupport_churn / techsupport_churn.groupby(level=0).sum() * 100\n",
    "\n",
    "df_onlinesecurity_internetusers = df[(df['OnlineSecurity'] == 'Yes') | (df['OnlineSecurity'] == 'No')]\n",
    "onlinesecurity_churn = df_onlinesecurity_internetusers.groupby(['Churn', 'OnlineSecurity'])['OnlineSecurity'].count()\n",
    "onlinesecurity_churn_ratio = onlinesecurity_churn / onlinesecurity_churn.groupby(level=0).sum() * 100\n",
    "\n",
    "df_onlinebackup_internetusers = df[(df['OnlineBackup'] == 'Yes') | (df['OnlineBackup'] == 'No')]\n",
    "onlinebackup_churn = df_onlinebackup_internetusers.groupby(['Churn', 'OnlineBackup'])['OnlineBackup'].count()\n",
    "onlinebackup_churn_ratio = onlinebackup_churn / onlinebackup_churn.groupby(level=0).sum() * 100\n",
    "\n",
    "labels = ['Device Protection', 'Tech Support', 'Online Security', 'Online Backup']\n",
    "churned_protection_tech = [deviceprotection_churn_ratio[3], techsupport_churn_ratio[3], onlinesecurity_churn_ratio[3], onlinebackup_churn_ratio[3]]\n",
    "retained_protection_tech = [deviceprotection_churn_ratio[1], techsupport_churn_ratio[1], onlinesecurity_churn_ratio[1], onlinebackup_churn_ratio[1]]\n",
    "\n",
    "x = np.arange(len(labels))\n",
    "width = 0.4\n",
    "\n",
    "fig, (ax1) = plt.subplots(figsize=(8, 4))\n",
    "rects1 = ax1.bar(x - width/2, churned_protection_tech, width, label='Churned', color='blue')\n",
    "rects2 = ax1.bar(x + width/2, retained_protection_tech, width, label='Retained', color='dodgerblue')\n",
    "\n",
    "ax1.set_ylabel('Percentage', size=14)\n",
    "ax1.set_title('Services', size=14)\n",
    "ax1.set_xticks(x)\n",
    "ax1.set_xticklabels(labels, size=13)\n",
    "ax1.legend(loc='lower right')\n",
    "\n",
    "ax1.bar_label(rects1, fmt='%.0f%%', padding=-16, color='white', size=13)\n",
    "ax1.bar_label(rects2, fmt='%.0f%%', padding=-16, color='white', size=13)\n",
    "\n",
    "fig.tight_layout()\n",
    "\n",
    "plt.show()"
   ]
  },
  {
   "cell_type": "markdown",
   "id": "beb5455f",
   "metadata": {},
   "source": [
    "* A clear majority of churned users don't tend to rely on the company for device protection, tech support, online security and online backup suggsting they are tech-savvy and/or are well-informed on other better-suited alternatives that render the company's services superfluous"
   ]
  },
  {
   "cell_type": "code",
   "execution_count": 24,
   "id": "214f509f",
   "metadata": {},
   "outputs": [
    {
     "data": {
      "image/png": "[encoded data removed]",
      "text/plain": [
       "<Figure size 360x288 with 1 Axes>"
      ]
     },
     "metadata": {
      "needs_background": "light"
     },
     "output_type": "display_data"
    }
   ],
   "source": [
    "# Looking at other premium services: streaming services (movie & tv)\n",
    "# First, Looking at streaming services according to internet service type, excluding users with no internet service\n",
    "# Is there a correation between type of internet service and use of streaming services?\n",
    "\n",
    "df_streamingmovies_internetusers = df[(df['StreamingMovies'] == 'Yes') | (df['StreamingMovies'] == 'No')]\n",
    "streamingmovies_internetservice = df_streamingmovies_internetusers.groupby(['InternetService', 'StreamingMovies'])['StreamingMovies'].count()\n",
    "streamingmovies_internetservice_ratio = streamingmovies_internetservice / streamingmovies_internetservice.groupby(level=0).sum() * 100\n",
    "\n",
    "df_streamingtv_internetusers = df[(df['StreamingTV'] == 'Yes') | (df['StreamingTV'] == 'No')]\n",
    "streamingtv_internetservice = df_streamingtv_internetusers.groupby(['InternetService', 'StreamingTV'])['StreamingTV'].count()\n",
    "streamingtv_internetservice_ratio = streamingtv_internetservice / streamingtv_internetservice.groupby(level=0).sum() * 100\n",
    "\n",
    "labels = ['Streaming Movies', 'Streaming TV']\n",
    "dsl_streaming = [streamingmovies_internetservice_ratio[1], streamingtv_internetservice_ratio[1]]\n",
    "fiberoptics_streaming = [streamingmovies_internetservice_ratio[3], streamingtv_internetservice_ratio[3]]\n",
    "\n",
    "x = np.arange(len(labels))\n",
    "width = 0.4\n",
    "\n",
    "fig, ax = plt.subplots(figsize=(5, 4))\n",
    "rects1 = ax.bar(x - width/2, fiberoptics_streaming, width, label='Fiber-optic', color='b')\n",
    "rects2 = ax.bar(x + width/2, dsl_streaming, width, label='DSL', color='dodgerblue')\n",
    "\n",
    "ax.set_ylabel('Percentage', size=13)\n",
    "ax.set_title('Streaming Service Users\\nPer Internet Connection Type', size=13)\n",
    "ax.set_xticks(x)\n",
    "ax.set_xticklabels(labels, size=13)\n",
    "ax.legend(loc='lower right')\n",
    "\n",
    "ax.bar_label(rects1, fmt='%.0f%%', padding=-16, color='white', size=13)\n",
    "ax.bar_label(rects2, fmt='%.0f%%', padding=-16, color='white', size=13)\n",
    "\n",
    "fig.tight_layout()\n",
    "\n",
    "plt.show()"
   ]
  },
  {
   "cell_type": "markdown",
   "id": "32c60f0f",
   "metadata": {},
   "source": [
    "* Streaming services are more popular among fiber optic users (56%-57% vs. 40%-41% of DSL users), who, as shown previously, compose approximately 70% of churned users."
   ]
  },
  {
   "cell_type": "code",
   "execution_count": 28,
   "id": "ee7cfc04",
   "metadata": {},
   "outputs": [
    {
     "data": {
      "image/png": "[encoded data removed]",
      "text/plain": [
       "<Figure size 360x288 with 1 Axes>"
      ]
     },
     "metadata": {
      "needs_background": "light"
     },
     "output_type": "display_data"
    }
   ],
   "source": [
    "# Looking at streaming services according to customer churn (excluding users with no internet service)\n",
    "# Do streaming services provide added value that encourages user retention?\n",
    "\n",
    "df_streamingmovies_internetusers = df[(df['StreamingMovies'] == 'Yes') | (df['StreamingMovies'] == 'No')]\n",
    "streamingmovies_churn = df_streamingmovies_internetusers.groupby(['Churn', 'StreamingMovies'])['StreamingMovies'].count()\n",
    "streamingmovies_churn_ratio = streamingmovies_churn / streamingmovies_churn.groupby(level=0).sum() * 100\n",
    "\n",
    "df_streamingtv_internetusers = df[(df['StreamingTV'] == 'Yes') | (df['StreamingTV'] == 'No')]\n",
    "streamingtv_churn = df_streamingtv_internetusers.groupby(['Churn', 'StreamingTV'])['StreamingTV'].count()\n",
    "streamingtv_churn_ratio = streamingtv_churn / streamingtv_churn.groupby(level=0).sum() * 100\n",
    "\n",
    "labels = ['Streaming Movies', 'Streaming TV']\n",
    "churn_streaming = [streamingmovies_churn_ratio[3], streamingtv_churn_ratio[3]]\n",
    "retention_streaming = [streamingmovies_churn_ratio[1], streamingtv_churn_ratio[1]]\n",
    "\n",
    "x = np.arange(len(labels))\n",
    "width = 0.4\n",
    "\n",
    "fig, ax = plt.subplots(figsize=(5, 4))\n",
    "rects1 = ax.bar(x - width/2, churn_streaming, width, label='Churn', color='b')\n",
    "rects2 = ax.bar(x + width/2, retention_streaming, width, label='Retained', color='dodgerblue')\n",
    "\n",
    "ax.set_ylabel('Percentage', size=13)\n",
    "ax.set_title('Streaming Services Among Churned/Retained', size=13)\n",
    "ax.set_xticks(x)\n",
    "ax.set_xticklabels(labels, size=13)\n",
    "ax.legend(loc='lower right')\n",
    "\n",
    "ax.bar_label(rects1, fmt='%.1f%%', padding=-16, color='white', size=13)\n",
    "ax.bar_label(rects2, fmt='%.1f%%', padding=-16, color='white', size=13)\n",
    "\n",
    "fig.tight_layout()\n",
    "\n",
    "plt.show()"
   ]
  },
  {
   "cell_type": "markdown",
   "id": "d786b340",
   "metadata": {},
   "source": [
    "* Data indicates that <b>streaming premium services have a limited impact on customer churn rates</b>. While 50%-51% of retained users use the company's streaming services, only 46%-47% of churned users were registered to the services."
   ]
  },
  {
   "cell_type": "code",
   "execution_count": 55,
   "id": "5d691d60",
   "metadata": {},
   "outputs": [
    {
     "data": {
      "text/html": [
       "<style  type=\"text/css\" >\n",
       "</style><table id=\"T_3c088_\" ><thead>    <tr>        <th class=\"col_heading level0 col0\" >Churn status</th>        <th class=\"col_heading level0 col1\" >Internet service</th>        <th class=\"col_heading level0 col2\" >Streaming services</th>        <th class=\"col_heading level0 col3\" >Churn rate</th>    </tr></thead><tbody>\n",
       "                <tr>\n",
       "                                <td id=\"T_3c088_row0_col0\" class=\"data row0 col0\" >Churned</td>\n",
       "                        <td id=\"T_3c088_row0_col1\" class=\"data row0 col1\" >DSL</td>\n",
       "                        <td id=\"T_3c088_row0_col2\" class=\"data row0 col2\" >No</td>\n",
       "                        <td id=\"T_3c088_row0_col3\" class=\"data row0 col3\" >71%</td>\n",
       "            </tr>\n",
       "            <tr>\n",
       "                                <td id=\"T_3c088_row1_col0\" class=\"data row1 col0\" ></td>\n",
       "                        <td id=\"T_3c088_row1_col1\" class=\"data row1 col1\" ></td>\n",
       "                        <td id=\"T_3c088_row1_col2\" class=\"data row1 col2\" >Yes</td>\n",
       "                        <td id=\"T_3c088_row1_col3\" class=\"data row1 col3\" >29%</td>\n",
       "            </tr>\n",
       "            <tr>\n",
       "                                <td id=\"T_3c088_row2_col0\" class=\"data row2 col0\" ></td>\n",
       "                        <td id=\"T_3c088_row2_col1\" class=\"data row2 col1\" >Fiber optic</td>\n",
       "                        <td id=\"T_3c088_row2_col2\" class=\"data row2 col2\" >No</td>\n",
       "                        <td id=\"T_3c088_row2_col3\" class=\"data row2 col3\" >47%</td>\n",
       "            </tr>\n",
       "            <tr>\n",
       "                                <td id=\"T_3c088_row3_col0\" class=\"data row3 col0\" ></td>\n",
       "                        <td id=\"T_3c088_row3_col1\" class=\"data row3 col1\" ></td>\n",
       "                        <td id=\"T_3c088_row3_col2\" class=\"data row3 col2\" >Yes</td>\n",
       "                        <td id=\"T_3c088_row3_col3\" class=\"data row3 col3\" >53%</td>\n",
       "            </tr>\n",
       "    </tbody></table>"
      ],
      "text/plain": [
       "<pandas.io.formats.style.Styler at 0x2039c74e280>"
      ]
     },
     "execution_count": 55,
     "metadata": {},
     "output_type": "execute_result"
    }
   ],
   "source": [
    "# Checking ratio of streaming services among churning users, per internet service type \n",
    "\n",
    "df_streamingmovies_internetusers = df[(df['Churn'] == 'Yes') & ((df['StreamingMovies'] == 'Yes') | (df['StreamingMovies'] == 'No'))]\n",
    "streamingmovies_churn = df_streamingmovies_internetusers.groupby(['Churn', 'InternetService', 'StreamingMovies'])['StreamingMovies'].count()\n",
    "streamingmovies_churn_ratio = streamingmovies_churn / streamingmovies_churn.groupby(level=0).sum() * 100\n",
    "\n",
    "df_streamingtv_internetusers = df[(df['Churn'] == 'Yes') & ((df['StreamingTV'] == 'Yes') | (df['StreamingTV'] == 'No'))]\n",
    "streamingtv_churn = df_streamingtv_internetusers.groupby(['Churn', 'InternetService', 'StreamingTV'])['StreamingTV'].count()\n",
    "streamingtv_churn_ratio = streamingtv_churn / streamingtv_churn.groupby(level=0).sum() * 100\n",
    "\n",
    "combined_streaming_churned_ratio = (streamingmovies_churn + streamingtv_churn) / (streamingmovies_churn.groupby(level=1).sum() + streamingtv_churn.groupby(level=1).sum()) * 100\n",
    "\n",
    "data = {'Churn status':['Churned', '', '', ''],\n",
    "        'Internet service':['DSL', '', 'Fiber optic', ''],\n",
    "        'Streaming services':['No', 'Yes', 'No', 'Yes'],\n",
    "        'Churn rate':['{0:.0f}%'.format(val) for val in list(combined_streaming_churned_ratio)]}\n",
    "table = pd.DataFrame(data=data)\n",
    "table.style.hide_index()"
   ]
  },
  {
   "cell_type": "code",
   "execution_count": 57,
   "id": "83312720",
   "metadata": {},
   "outputs": [
    {
     "data": {
      "text/html": [
       "<style  type=\"text/css\" >\n",
       "</style><table id=\"T_64a49_\" ><thead>    <tr>        <th class=\"col_heading level0 col0\" >Churn status</th>        <th class=\"col_heading level0 col1\" >Internet service</th>        <th class=\"col_heading level0 col2\" >Streaming services</th>        <th class=\"col_heading level0 col3\" >Churn rate</th>    </tr></thead><tbody>\n",
       "                <tr>\n",
       "                                <td id=\"T_64a49_row0_col0\" class=\"data row0 col0\" >Retained</td>\n",
       "                        <td id=\"T_64a49_row0_col1\" class=\"data row0 col1\" >DSL</td>\n",
       "                        <td id=\"T_64a49_row0_col2\" class=\"data row0 col2\" >No</td>\n",
       "                        <td id=\"T_64a49_row0_col3\" class=\"data row0 col3\" >57%</td>\n",
       "            </tr>\n",
       "            <tr>\n",
       "                                <td id=\"T_64a49_row1_col0\" class=\"data row1 col0\" ></td>\n",
       "                        <td id=\"T_64a49_row1_col1\" class=\"data row1 col1\" ></td>\n",
       "                        <td id=\"T_64a49_row1_col2\" class=\"data row1 col2\" >Yes</td>\n",
       "                        <td id=\"T_64a49_row1_col3\" class=\"data row1 col3\" >43%</td>\n",
       "            </tr>\n",
       "            <tr>\n",
       "                                <td id=\"T_64a49_row2_col0\" class=\"data row2 col0\" ></td>\n",
       "                        <td id=\"T_64a49_row2_col1\" class=\"data row2 col1\" >Fiber optic</td>\n",
       "                        <td id=\"T_64a49_row2_col2\" class=\"data row2 col2\" >No</td>\n",
       "                        <td id=\"T_64a49_row2_col3\" class=\"data row2 col3\" >41%</td>\n",
       "            </tr>\n",
       "            <tr>\n",
       "                                <td id=\"T_64a49_row3_col0\" class=\"data row3 col0\" ></td>\n",
       "                        <td id=\"T_64a49_row3_col1\" class=\"data row3 col1\" ></td>\n",
       "                        <td id=\"T_64a49_row3_col2\" class=\"data row3 col2\" >Yes</td>\n",
       "                        <td id=\"T_64a49_row3_col3\" class=\"data row3 col3\" >59%</td>\n",
       "            </tr>\n",
       "    </tbody></table>"
      ],
      "text/plain": [
       "<pandas.io.formats.style.Styler at 0x2039fd47ca0>"
      ]
     },
     "execution_count": 57,
     "metadata": {},
     "output_type": "execute_result"
    }
   ],
   "source": [
    "# Checking ratio of streaming services among retained users, per internet service type \n",
    "\n",
    "df_streamingmovies_internetusers = df[(df['Churn'] == 'No') & ((df['StreamingMovies'] == 'Yes') | (df['StreamingMovies'] == 'No'))]\n",
    "streamingmovies_churn = df_streamingmovies_internetusers.groupby(['Churn', 'InternetService', 'StreamingMovies'])['StreamingMovies'].count()\n",
    "streamingmovies_churn_ratio = streamingmovies_churn / streamingmovies_churn.groupby(level=0).sum() * 100\n",
    "\n",
    "df_streamingtv_internetusers = df[(df['Churn'] == 'No') & ((df['StreamingTV'] == 'Yes') | (df['StreamingTV'] == 'No'))]\n",
    "streamingtv_churn = df_streamingtv_internetusers.groupby(['Churn', 'InternetService', 'StreamingTV'])['StreamingTV'].count()\n",
    "streamingtv_churn_ratio = streamingtv_churn / streamingtv_churn.groupby(level=0).sum() * 100\n",
    "\n",
    "combined_streaming_retained_ratio = (streamingmovies_churn + streamingtv_churn) / (streamingmovies_churn.groupby(level=1).sum() + streamingtv_churn.groupby(level=1).sum()) * 100\n",
    "\n",
    "data = {'Churn status':['Retained', '', '', ''],\n",
    "        'Internet service':['DSL', '', 'Fiber optic', ''],\n",
    "        'Streaming services':['No', 'Yes', 'No', 'Yes'],\n",
    "        'Churn rate':['{0:.0f}%'.format(val) for val in list(combined_streaming_retained_ratio)]}\n",
    "table = pd.DataFrame(data=data)\n",
    "table.style.hide_index()"
   ]
  },
  {
   "cell_type": "markdown",
   "id": "fd408a22",
   "metadata": {},
   "source": [
    "Services, conclusion:\n",
    "* Churned customers are twice as likely to use the company's fiber optic internet connection, suggesting heavy internet usage\n",
    "* Churned customers are much less likely not to rely on the company's IT services, suggesting tech-savviness and/or awarness of alternatives\n",
    "* Churned customer are drawn to the company's streaming services "
   ]
  },
  {
   "cell_type": "markdown",
   "id": "8389085a",
   "metadata": {},
   "source": [
    " "
   ]
  },
  {
   "cell_type": "markdown",
   "id": "181e58e3",
   "metadata": {},
   "source": [
    "### Billing & Tenure"
   ]
  },
  {
   "cell_type": "code",
   "execution_count": 33,
   "id": "63fd6e80",
   "metadata": {
    "scrolled": true
   },
   "outputs": [
    {
     "data": {
      "text/html": [
       "<div>\n",
       "<style scoped>\n",
       "    .dataframe tbody tr th:only-of-type {\n",
       "        vertical-align: middle;\n",
       "    }\n",
       "\n",
       "    .dataframe tbody tr th {\n",
       "        vertical-align: top;\n",
       "    }\n",
       "\n",
       "    .dataframe thead th {\n",
       "        text-align: right;\n",
       "    }\n",
       "</style>\n",
       "<table border=\"1\" class=\"dataframe\">\n",
       "  <thead>\n",
       "    <tr style=\"text-align: right;\">\n",
       "      <th></th>\n",
       "      <th>Contract</th>\n",
       "      <th>PaperlessBilling</th>\n",
       "      <th>PaymentMethod</th>\n",
       "      <th>MonthlyCharges</th>\n",
       "      <th>TotalCharges</th>\n",
       "    </tr>\n",
       "  </thead>\n",
       "  <tbody>\n",
       "    <tr>\n",
       "      <th>0</th>\n",
       "      <td>Two year</td>\n",
       "      <td>Yes</td>\n",
       "      <td>Bank transfer (automatic)</td>\n",
       "      <td>61.90</td>\n",
       "      <td>0.0</td>\n",
       "    </tr>\n",
       "    <tr>\n",
       "      <th>1</th>\n",
       "      <td>Two year</td>\n",
       "      <td>No</td>\n",
       "      <td>Credit card (automatic)</td>\n",
       "      <td>56.05</td>\n",
       "      <td>0.0</td>\n",
       "    </tr>\n",
       "    <tr>\n",
       "      <th>2</th>\n",
       "      <td>Two year</td>\n",
       "      <td>No</td>\n",
       "      <td>Mailed check</td>\n",
       "      <td>25.35</td>\n",
       "      <td>0.0</td>\n",
       "    </tr>\n",
       "    <tr>\n",
       "      <th>3</th>\n",
       "      <td>One year</td>\n",
       "      <td>Yes</td>\n",
       "      <td>Mailed check</td>\n",
       "      <td>19.70</td>\n",
       "      <td>0.0</td>\n",
       "    </tr>\n",
       "    <tr>\n",
       "      <th>4</th>\n",
       "      <td>Two year</td>\n",
       "      <td>No</td>\n",
       "      <td>Mailed check</td>\n",
       "      <td>19.85</td>\n",
       "      <td>0.0</td>\n",
       "    </tr>\n",
       "  </tbody>\n",
       "</table>\n",
       "</div>"
      ],
      "text/plain": [
       "   Contract PaperlessBilling              PaymentMethod  MonthlyCharges  \\\n",
       "0  Two year              Yes  Bank transfer (automatic)           61.90   \n",
       "1  Two year               No    Credit card (automatic)           56.05   \n",
       "2  Two year               No               Mailed check           25.35   \n",
       "3  One year              Yes               Mailed check           19.70   \n",
       "4  Two year               No               Mailed check           19.85   \n",
       "\n",
       "   TotalCharges  \n",
       "0           0.0  \n",
       "1           0.0  \n",
       "2           0.0  \n",
       "3           0.0  \n",
       "4           0.0  "
      ]
     },
     "execution_count": 33,
     "metadata": {},
     "output_type": "execute_result"
    }
   ],
   "source": [
    "# Looking at columns realting to billing\n",
    "\n",
    "df[['Contract', 'PaperlessBilling', 'PaymentMethod', 'MonthlyCharges', 'TotalCharges']].head()"
   ]
  },
  {
   "cell_type": "code",
   "execution_count": 34,
   "id": "db60dad8",
   "metadata": {},
   "outputs": [
    {
     "data": {
      "text/html": [
       "<style  type=\"text/css\" >\n",
       "</style><table id=\"T_91b0d_\" ><thead>    <tr>        <th class=\"col_heading level0 col0\" >Churn status</th>        <th class=\"col_heading level0 col1\" >Paperless billing</th>        <th class=\"col_heading level0 col2\" >Churn rate</th>    </tr></thead><tbody>\n",
       "                <tr>\n",
       "                                <td id=\"T_91b0d_row0_col0\" class=\"data row0 col0\" >Retained</td>\n",
       "                        <td id=\"T_91b0d_row0_col1\" class=\"data row0 col1\" >No</td>\n",
       "                        <td id=\"T_91b0d_row0_col2\" class=\"data row0 col2\" >47%</td>\n",
       "            </tr>\n",
       "            <tr>\n",
       "                                <td id=\"T_91b0d_row1_col0\" class=\"data row1 col0\" ></td>\n",
       "                        <td id=\"T_91b0d_row1_col1\" class=\"data row1 col1\" >Yes</td>\n",
       "                        <td id=\"T_91b0d_row1_col2\" class=\"data row1 col2\" >53%</td>\n",
       "            </tr>\n",
       "            <tr>\n",
       "                                <td id=\"T_91b0d_row2_col0\" class=\"data row2 col0\" >Churned</td>\n",
       "                        <td id=\"T_91b0d_row2_col1\" class=\"data row2 col1\" >No</td>\n",
       "                        <td id=\"T_91b0d_row2_col2\" class=\"data row2 col2\" >26%</td>\n",
       "            </tr>\n",
       "            <tr>\n",
       "                                <td id=\"T_91b0d_row3_col0\" class=\"data row3 col0\" ></td>\n",
       "                        <td id=\"T_91b0d_row3_col1\" class=\"data row3 col1\" >Yes</td>\n",
       "                        <td id=\"T_91b0d_row3_col2\" class=\"data row3 col2\" >74%</td>\n",
       "            </tr>\n",
       "    </tbody></table>"
      ],
      "text/plain": [
       "<pandas.io.formats.style.Styler at 0x2039eb32940>"
      ]
     },
     "execution_count": 34,
     "metadata": {},
     "output_type": "execute_result"
    }
   ],
   "source": [
    "# Looking at paperless billing\n",
    "# Hypothesizing that higher churn rates exist among users who perfer paperless billing, \n",
    "# because of earlier indications that tech-savvy users (who tend towards paperless billing) have higher churn rates\n",
    "\n",
    "paperlessbilling_churn = df.groupby(['Churn', 'PaperlessBilling'])['PaperlessBilling'].count()\n",
    "paperlessbilling_churn_ratio = paperlessbilling_churn / paperlessbilling_churn.groupby(level=0).sum()\n",
    "\n",
    "data = {'Churn status':['Retained', '', 'Churned', ''],\n",
    "        'Paperless billing':['No', 'Yes', 'No', 'Yes'],\n",
    "        'Churn rate':['{0:.0f}%'.format(val * 100) for val in list(paperlessbilling_churn_ratio)]}\n",
    "table = pd.DataFrame(data=data)\n",
    "table.style.hide_index()"
   ]
  },
  {
   "cell_type": "markdown",
   "id": "f19c02bf",
   "metadata": {},
   "source": [
    "* 74% of churned customers choose paperless billing, testifying to their computer literacy "
   ]
  },
  {
   "cell_type": "code",
   "execution_count": 35,
   "id": "76e3c11a",
   "metadata": {},
   "outputs": [
    {
     "name": "stdout",
     "output_type": "stream",
     "text": [
      "Types of payment methods: 'Bank transfer (automatic)', 'Credit card (automatic)', 'Mailed check', 'Electronic check'.\n",
      "Of these, the first two are auto pay methods of payment, while the latter two are bill pay methods of payment.\n"
     ]
    }
   ],
   "source": [
    "# Checking distinct types of payment mathod\n",
    "\n",
    "paymentmethods_types = list(pd.unique(df['PaymentMethod']))\n",
    "print('Types of payment methods: {}.'.format(str(paymentmethods_types)[1:-1]))\n",
    "print('Of these, the first two are auto pay methods of payment, while the latter two are bill pay methods of payment.')"
   ]
  },
  {
   "cell_type": "code",
   "execution_count": 36,
   "id": "1e44ba6d",
   "metadata": {},
   "outputs": [
    {
     "data": {
      "image/png": "[encoded data removed]",
      "text/plain": [
       "<Figure size 360x288 with 1 Axes>"
      ]
     },
     "metadata": {
      "needs_background": "light"
     },
     "output_type": "display_data"
    }
   ],
   "source": [
    "# Two of the four payment methods are auto pay methods, giving the telecom company control over the payments \n",
    "# The other two pyment methods are bill pay methods, allowing the user to instruct the bank to make the payments\n",
    "# Perhaps there is a correlation between high churn rates and method of payment? \n",
    "\n",
    "paymentmethod_churn = df.groupby(['Churn', 'PaymentMethod'])['PaymentMethod'].count()\n",
    "paymentmethod_churn_ratio = paymentmethod_churn / paymentmethod_churn.groupby(level=0).sum() * 100\n",
    "\n",
    "labels = ['Churned', 'Retained']\n",
    "auto_bot = [paymentmethod_churn_ratio[4], paymentmethod_churn_ratio[0]]\n",
    "auto_top = [paymentmethod_churn_ratio[5], paymentmethod_churn_ratio[1]]\n",
    "bill_bot = [paymentmethod_churn_ratio[6], paymentmethod_churn_ratio[2]]\n",
    "bill_top = [paymentmethod_churn_ratio[7], paymentmethod_churn_ratio[3]]\n",
    "\n",
    "x = np.arange(len(labels)) \n",
    "width = 0.4 \n",
    "\n",
    "fig, ax = plt.subplots(figsize=(5, 4))\n",
    "rects1bot = ax.bar(x - width/2, auto_bot, width, label='Bank transfer (auto)', color='darkgray')\n",
    "rects1top = ax.bar(x - width/2, auto_top, width, label='Credit card (auto)', color='lightgrey', bottom=auto_bot)\n",
    "rects2bot = ax.bar(x + width/2, bill_bot, width, label='Electronic check (bill)', color='cornflowerblue')\n",
    "rects2top = ax.bar(x + width/2, bill_top, width, label='Mailed check (bill)', color='lightskyblue', bottom=bill_bot)\n",
    "\n",
    "ax.set_ylabel('Percentage', size=13)\n",
    "ax.set_title('Billing Method', size=13)\n",
    "ax.set_xticks(x)\n",
    "ax.set_xticklabels(labels, size=13)\n",
    "ax.legend()\n",
    "\n",
    "ax.bar_label(rects1top, fmt='%.1f%%', padding=-16)\n",
    "ax.bar_label(rects2top, fmt='%.1f%%', padding=-16)\n",
    "\n",
    "fig.tight_layout()\n",
    "\n",
    "plt.show()"
   ]
  },
  {
   "cell_type": "markdown",
   "id": "06c5145c",
   "metadata": {},
   "source": [
    "* Only 27% of churned users (vs. 50% of retained users) use automatic pay methods\n",
    "* Of the bill pay methods, electronic checks are especially popular among churned users, testifying to their tech-savviness\n",
    "* We may deduce that churned users tend to be more engaged than retained users with their periodic expenditure on telecom services\n"
   ]
  },
  {
   "cell_type": "code",
   "execution_count": 37,
   "id": "f388a0b1",
   "metadata": {},
   "outputs": [
    {
     "name": "stdout",
     "output_type": "stream",
     "text": [
      "Contract types: 'Two year', 'One year', 'Month-to-month'\n"
     ]
    }
   ],
   "source": [
    "# Similarly, we can expect to find shorter contract periods among churned users, who desire more control over their payments\n",
    "# Looking at contract types\n",
    "\n",
    "unique_contracts = list(pd.unique(df['Contract']))\n",
    "print('Contract types: {}'.format(str(unique_contracts)[1:-1]))\n"
   ]
  },
  {
   "cell_type": "code",
   "execution_count": 38,
   "id": "2299a05d",
   "metadata": {},
   "outputs": [
    {
     "data": {
      "text/html": [
       "<style  type=\"text/css\" >\n",
       "</style><table id=\"T_cca55_\" ><thead>    <tr>        <th class=\"col_heading level0 col0\" >Churn status</th>        <th class=\"col_heading level0 col1\" >Contract type</th>        <th class=\"col_heading level0 col2\" >Churn rate</th>    </tr></thead><tbody>\n",
       "                <tr>\n",
       "                                <td id=\"T_cca55_row0_col0\" class=\"data row0 col0\" >Retained</td>\n",
       "                        <td id=\"T_cca55_row0_col1\" class=\"data row0 col1\" >Month-to-month</td>\n",
       "                        <td id=\"T_cca55_row0_col2\" class=\"data row0 col2\" >43%</td>\n",
       "            </tr>\n",
       "            <tr>\n",
       "                                <td id=\"T_cca55_row1_col0\" class=\"data row1 col0\" ></td>\n",
       "                        <td id=\"T_cca55_row1_col1\" class=\"data row1 col1\" >One year</td>\n",
       "                        <td id=\"T_cca55_row1_col2\" class=\"data row1 col2\" >26%</td>\n",
       "            </tr>\n",
       "            <tr>\n",
       "                                <td id=\"T_cca55_row2_col0\" class=\"data row2 col0\" ></td>\n",
       "                        <td id=\"T_cca55_row2_col1\" class=\"data row2 col1\" >Two year</td>\n",
       "                        <td id=\"T_cca55_row2_col2\" class=\"data row2 col2\" >32%</td>\n",
       "            </tr>\n",
       "            <tr>\n",
       "                                <td id=\"T_cca55_row3_col0\" class=\"data row3 col0\" >Churned</td>\n",
       "                        <td id=\"T_cca55_row3_col1\" class=\"data row3 col1\" >Month-to-month</td>\n",
       "                        <td id=\"T_cca55_row3_col2\" class=\"data row3 col2\" >88%</td>\n",
       "            </tr>\n",
       "            <tr>\n",
       "                                <td id=\"T_cca55_row4_col0\" class=\"data row4 col0\" ></td>\n",
       "                        <td id=\"T_cca55_row4_col1\" class=\"data row4 col1\" >One year</td>\n",
       "                        <td id=\"T_cca55_row4_col2\" class=\"data row4 col2\" >9%</td>\n",
       "            </tr>\n",
       "            <tr>\n",
       "                                <td id=\"T_cca55_row5_col0\" class=\"data row5 col0\" ></td>\n",
       "                        <td id=\"T_cca55_row5_col1\" class=\"data row5 col1\" >Two year</td>\n",
       "                        <td id=\"T_cca55_row5_col2\" class=\"data row5 col2\" >3%</td>\n",
       "            </tr>\n",
       "    </tbody></table>"
      ],
      "text/plain": [
       "<pandas.io.formats.style.Styler at 0x2039fd5d7c0>"
      ]
     },
     "execution_count": 38,
     "metadata": {},
     "output_type": "execute_result"
    }
   ],
   "source": [
    "# Checking contract type tendencies according to churn patterns\n",
    "# Visualizing through table\n",
    "\n",
    "contract_churn = df.groupby(['Churn', 'Contract'])['Contract'].count()\n",
    "contract_churn_ratio = contract_churn / contract_churn.groupby(level=0).sum()\n",
    "data = {'Churn status':['Retained', '', '', 'Churned', '', ''], \n",
    "        'Contract type':['Month-to-month', 'One year', 'Two year', 'Month-to-month', 'One year', 'Two year'],\n",
    "        'Churn rate':[\"{0:.0f}%\".format(val * 100) for val in list(contract_churn_ratio)]}\n",
    "table = pd.DataFrame(data=data)\n",
    "table.style.hide_index()\n"
   ]
  },
  {
   "cell_type": "markdown",
   "id": "2677d2cb",
   "metadata": {},
   "source": [
    "* 88% of churned users opt for a month-to-month contract (vs. 43% of retained users); Only 3% choose a two-year contract (vs. 32%)\n",
    "* This reinforces our previous conclusion that churned users are more engaged with their internet bills, prefer not to commit themselves to a particular telecom company, and wish to keep their options open for switching providers"
   ]
  },
  {
   "cell_type": "code",
   "execution_count": 39,
   "id": "b196acf5",
   "metadata": {},
   "outputs": [
    {
     "data": {
      "text/plain": [
       "Text(0, 0.5, 'Number of Customers')"
      ]
     },
     "execution_count": 39,
     "metadata": {},
     "output_type": "execute_result"
    },
    {
     "data": {
      "image/png": "[encoded data removed]",
      "text/plain": [
       "<Figure size 432x288 with 1 Axes>"
      ]
     },
     "metadata": {
      "needs_background": "light"
     },
     "output_type": "display_data"
    }
   ],
   "source": [
    "# Billing contract type has a strong correlation with user tenure\n",
    "# Looking at tenure patterns among total users\n",
    "\n",
    "plt.hist(df['tenure'], color = 'deepskyblue', edgecolor = 'black', bins = int(180/5))\n",
    "\n",
    "plt.title('Tenure (Total Customers)', size=16)\n",
    "plt.xlabel('Months', size=13)\n",
    "plt.ylabel('Number of Customers', size=13)"
   ]
  },
  {
   "cell_type": "code",
   "execution_count": 40,
   "id": "3e3d0df3",
   "metadata": {},
   "outputs": [
    {
     "data": {
      "text/plain": [
       "Text(0.5, 0, 'Tenure (Months)')"
      ]
     },
     "execution_count": 40,
     "metadata": {},
     "output_type": "execute_result"
    },
    {
     "data": {
      "image/png": "[encoded data removed]",
      "text/plain": [
       "<Figure size 1296x288 with 3 Axes>"
      ]
     },
     "metadata": {
      "needs_background": "light"
     },
     "output_type": "display_data"
    }
   ],
   "source": [
    "# Above histogram can be explained by looking at contract type's impact on tenure  \n",
    "\n",
    "fig, (ax1, ax2, ax3) = plt.subplots(1, 3, figsize=(18, 4), sharey=True)\n",
    "\n",
    "n, bins, patches = ax1.hist(df[df['Contract']=='Month-to-month']['tenure'], color='b', edgecolor='black', bins = int(180/5))\n",
    "ax1.set_title('Month-to-month Contract', size=13)\n",
    "ax1.set_xlabel('Tenure (Months)', size=13)\n",
    "ax1.set_ylabel('Number of Customers', size=13)\n",
    "\n",
    "n, bins, patches = ax2.hist(df[df['Contract']=='One year']['tenure'], color='dodgerblue', edgecolor='black', bins = int(180/5))\n",
    "ax2.set_title('One-year Contract', size=13)\n",
    "ax2.set_xlabel('Tenure (Months)', size=13)\n",
    "\n",
    "n, bins, patches = ax3.hist(df[df['Contract']=='Two year']['tenure'], color='deepskyblue', edgecolor='black', bins = int(180/5))\n",
    "ax3.set_title('Two-year Contract', size=13)\n",
    "ax3.set_xlabel('Tenure (Months)', size=13)\n"
   ]
  },
  {
   "cell_type": "markdown",
   "id": "3d40045c",
   "metadata": {},
   "source": [
    " * A very large number of customers who choose a month-to-month contract churn within 2 months, whereas a large proportion of customers who choose a 2-year contract stay for longer than 70 months\n",
    " * Contract type is a strong indicator of customer tenure, and as indicated before - of customer churn rate"
   ]
  },
  {
   "cell_type": "code",
   "execution_count": 41,
   "id": "5f0a3040",
   "metadata": {},
   "outputs": [
    {
     "data": {
      "image/png": "[encoded data removed]",
      "text/plain": [
       "<Figure size 576x288 with 2 Axes>"
      ]
     },
     "metadata": {
      "needs_background": "light"
     },
     "output_type": "display_data"
    }
   ],
   "source": [
    "# Are short contracts and bill pay (= not auto pay) methods of payment indicators of the users' prioritization of price?\n",
    "# Looking at average monthly charges for each internet service based on contract \n",
    "# Doing the same (average monthly charges per type of internet service) with payment method \n",
    "# Visualizing with bar charts\n",
    "\n",
    "# First bar\n",
    "\n",
    "df_internetusers = df[(df['InternetService'] == 'DSL') | (df['InternetService'] == 'Fiber optic')]\n",
    "internetservice_charges = df_internetusers.groupby([\"InternetService\", 'Contract'])['MonthlyCharges'].mean()\n",
    "\n",
    "labels = ['DSL', 'Fiber optic']\n",
    "monthtomonth = [internetservice_charges[0], internetservice_charges[3]]\n",
    "oneyear = [internetservice_charges[1], internetservice_charges[4]]\n",
    "twoyear = [internetservice_charges[2], internetservice_charges[5]]\n",
    "\n",
    "x = np.arange(len(labels))\n",
    "width1 = 0.27\n",
    "\n",
    "fig, (ax1, ax2) = plt.subplots(1, 2, figsize=(8, 4))\n",
    "\n",
    "arects1 = ax1.bar(x - width1, monthtomonth, width1, label='Month-to-month', color='b')\n",
    "arects2 = ax1.bar(x, oneyear, width1, label='One-year', color='dodgerblue')\n",
    "arects3 = ax1.bar(x + width1, twoyear, width1, label='Two-year', color='deepskyblue')\n",
    "\n",
    "ax1.set_ylabel('Average monthly charge ($)', size=13)\n",
    "ax1.set_title('Average Monthly Charge\\nPer Contract Type', size=13)\n",
    "ax1.set_xticks(x)\n",
    "ax1.set_xticklabels(labels, size=13)\n",
    "ax1.legend()\n",
    "\n",
    "ax1.bar_label(arects1, fmt='$%.0f', padding=-16, color='white', size=11)\n",
    "ax1.bar_label(arects2, fmt='$%.0f', padding=-16, color='white', size=11)\n",
    "ax1.bar_label(arects3, fmt='$%.0f', padding=-16, color='white', size=11)\n",
    "\n",
    "# Second bar\n",
    "\n",
    "width2 = 0.4\n",
    "\n",
    "internetservice_charges_sum = df_internetusers.groupby([\"InternetService\", 'PaymentMethod'])['MonthlyCharges'].sum()\n",
    "internetservice_charges_count = df_internetusers.groupby([\"InternetService\", 'PaymentMethod'])['MonthlyCharges'].count()\n",
    "\n",
    "dsl_autopay_mean = (internetservice_charges_sum[0] + internetservice_charges_sum[1]) / (internetservice_charges_count[0] + internetservice_charges_count[1])\n",
    "dsl_billpay_mean = (internetservice_charges_sum[2] + internetservice_charges_sum[3]) / (internetservice_charges_count[2] + internetservice_charges_count[3])\n",
    "fiberop_autopay_mean = (internetservice_charges_sum[4] + internetservice_charges_sum[5]) / (internetservice_charges_count[4] + internetservice_charges_count[5])\n",
    "fiberop_billpay_mean = (internetservice_charges_sum[6] + internetservice_charges_sum[7]) / (internetservice_charges_count[6] + internetservice_charges_count[7])\n",
    "\n",
    "autopay = [dsl_autopay_mean, fiberop_autopay_mean]\n",
    "billpay = [dsl_billpay_mean, fiberop_billpay_mean]\n",
    "\n",
    "brects1 = ax2.bar(x - width2/2, billpay, width2, label='Bill pay', color='b')\n",
    "brects2 = ax2.bar(x + width2/2, autopay, width2, label='Auto pay', color='dodgerblue')\n",
    "                \n",
    "ax2.set_title('Average Monthly Charge\\nPer Payment Method (Auto/Bill Pay)', size=13)\n",
    "ax2.set_xticks(x)\n",
    "ax2.set_xticklabels(labels, size=13)\n",
    "ax2.legend()\n",
    "\n",
    "ax2.bar_label(brects1, fmt='$%.0f', padding=-16, color='white', size=11)\n",
    "ax2.bar_label(brects2, fmt='$%.0f', padding=-16, color='white', size=11)\n",
    "\n",
    "fig.tight_layout()\n",
    "\n",
    "plt.show()\n",
    "\n",
    "\n",
    "fig.tight_layout()\n",
    "\n",
    "plt.show()"
   ]
  },
  {
   "cell_type": "markdown",
   "id": "5026c8d5",
   "metadata": {},
   "source": [
    "* The user's choice of payment method has a strong impact (or alternatively, reflects) the user's behavior, namely, his/her heightened concern for their internet service expenses \n",
    "* Users who choose a month-to-month contract, will pay, on average, 17% (Fiber-optic) to 29% (DSL) less than users who commit themselves to two-year contracts  \n",
    "* Users who choose to pay as they go, pay, on average, 6% (Fiber-optic) to 14% (DSL) less than users who use automatic payment methods "
   ]
  },
  {
   "cell_type": "code",
   "execution_count": 42,
   "id": "59be719e",
   "metadata": {},
   "outputs": [
    {
     "data": {
      "image/png": "[encoded data removed]",
      "text/plain": [
       "<Figure size 432x288 with 1 Axes>"
      ]
     },
     "metadata": {
      "needs_background": "light"
     },
     "output_type": "display_data"
    }
   ],
   "source": [
    "# After having established correlation between contract type and tenure, as well as contract and avergae monthly charge\n",
    "# Looking at relationship between tenure and average monthly charges\n",
    "\n",
    "tenure = pd.unique(df['tenure'])\n",
    "monthlycharges_tenure_mean = df.groupby('tenure')['MonthlyCharges'].mean()\n",
    "\n",
    "plt.scatter(tenure, monthlycharges_tenure_mean, c='deepskyblue')\n",
    "\n",
    "z = np.polyfit(tenure, monthlycharges_tenure_mean, 1)\n",
    "p = np.poly1d(z)\n",
    "plt.plot(tenure,p(tenure),\"r--\")\n",
    "\n",
    "plt.title('Average Monthly Charges vs. Tenure', size=14)\n",
    "plt.xlabel('Tenure (Months)', size=12)\n",
    "plt.ylabel('Monthly Charges (Mean)', size=12)\n",
    "plt.show()"
   ]
  },
  {
   "cell_type": "markdown",
   "id": "96fd6553",
   "metadata": {},
   "source": [
    "* Chart further supports established correlations between contract type, monthly charge and churn rate: the longer a customer stays with the company, the more s/he pays for his/her service, and the less likely s/he is to churn"
   ]
  },
  {
   "cell_type": "markdown",
   "id": "7e121106",
   "metadata": {},
   "source": [
    " "
   ]
  },
  {
   "cell_type": "markdown",
   "id": "370b341a",
   "metadata": {},
   "source": [
    " "
   ]
  },
  {
   "cell_type": "markdown",
   "id": "bef9c8b1",
   "metadata": {},
   "source": [
    "# Conclusions"
   ]
  },
  {
   "cell_type": "markdown",
   "id": "7a4620d7",
   "metadata": {},
   "source": [
    "### Actionable Insights\n",
    "\n",
    "* Churned users tend to be older, single, and have no dependents\n",
    "* They are interested in the fastest available internet connection (fiber optic)\n",
    "* They know their way around computers, foregoing the company's IT services\n",
    "* They are drawn to the company's streaming services\n",
    "* They are highly-informed on billing matters, preferring less-binding contracts and payment methods, and paying substantially lower rates for their internet connection\n",
    "* Their average tenure is lower; they are quick to churn\n",
    "\n",
    "#### --- Recommended efforts to reduce customer churn rates detailed in PP presentation --- "
   ]
  },
  {
   "cell_type": "code",
   "execution_count": null,
   "id": "18fb8905",
   "metadata": {},
   "outputs": [],
   "source": []
  }
 ],
 "metadata": {
  "kernelspec": {
   "display_name": "Python 3",
   "language": "python",
   "name": "python3"
  },
  "language_info": {
   "codemirror_mode": {
    "name": "ipython",
    "version": 3
   },
   "file_extension": ".py",
   "mimetype": "text/x-python",
   "name": "python",
   "nbconvert_exporter": "python",
   "pygments_lexer": "ipython3",
   "version": "3.8.6"
  }
 },
 "nbformat": 4,
 "nbformat_minor": 5
}
